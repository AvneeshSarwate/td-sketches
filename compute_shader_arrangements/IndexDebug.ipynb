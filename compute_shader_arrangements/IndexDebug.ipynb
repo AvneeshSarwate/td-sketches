{
 "cells": [
  {
   "cell_type": "code",
   "execution_count": 15,
   "id": "88dce528",
   "metadata": {},
   "outputs": [],
   "source": [
    "import math\n",
    "\n",
    "wgSize = 4 * 4\n",
    "numPixels = 175\n",
    "roundedUpPixels = math.ceil(numPixels/wgSize) * wgSize\n",
    "numWg = math.ceil(numPixels/wgSize)\n",
    "\n",
    "startInds = [i if i < numPixels else 0 for i in range(roundedUpPixels)]\n",
    "newInds = [0 for i in range(roundedUpPixels)]\n",
    "\n",
    "getWgInd = lambda ind : math.floor(ind/wgSize)\n",
    "\n",
    "calcShift = lambda i: (i % wgSize) * wgSize\n",
    "calcNewInd = lambda i: (startInds[i] + calcShift(i)) % roundedUpPixels\n",
    "\n",
    "for i in range(roundedUpPixels):\n",
    "    shift = calcShift(i)\n",
    "    newInds[i] = ((startInds[i] + shift) % roundedUpPixels) %numPixels"
   ]
  },
  {
   "cell_type": "code",
   "execution_count": 11,
   "id": "a6e0fd7f",
   "metadata": {},
   "outputs": [
    {
     "name": "stdout",
     "output_type": "stream",
     "text": [
      "[64, 81, 98, 115, 132, 149, 166, 7, 24, 41, 58, 75, 92, 109, 126, 143]\n",
      "[64, 65, 66, 67, 68, 69, 70, 71, 72, 73, 74, 75, 76, 77, 78, 79]\n"
     ]
    }
   ],
   "source": [
    "group = 4\n",
    "print(newInds[group*wgSize:(group+1)*wgSize])\n",
    "print(startInds[group*wgSize:(group+1)*wgSize])"
   ]
  },
  {
   "cell_type": "code",
   "execution_count": 16,
   "id": "9aa1216a",
   "metadata": {},
   "outputs": [
    {
     "data": {
      "text/plain": [
       "174"
      ]
     },
     "execution_count": 16,
     "metadata": {},
     "output_type": "execute_result"
    }
   ],
   "source": [
    "newSet = set(newInds)\n",
    "len(newSet)"
   ]
  }
 ],
 "metadata": {
  "kernelspec": {
   "display_name": "Python 3 (ipykernel)",
   "language": "python",
   "name": "python3"
  },
  "language_info": {
   "codemirror_mode": {
    "name": "ipython",
    "version": 3
   },
   "file_extension": ".py",
   "mimetype": "text/x-python",
   "name": "python",
   "nbconvert_exporter": "python",
   "pygments_lexer": "ipython3",
   "version": "3.9.12"
  }
 },
 "nbformat": 4,
 "nbformat_minor": 5
}
